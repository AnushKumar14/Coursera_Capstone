{
 "metadata": {
  "language_info": {
   "codemirror_mode": {
    "name": "ipython",
    "version": 3
   },
   "file_extension": ".py",
   "mimetype": "text/x-python",
   "name": "python",
   "nbconvert_exporter": "python",
   "pygments_lexer": "ipython3",
   "version": 3
  },
  "orig_nbformat": 2
 },
 "nbformat": 4,
 "nbformat_minor": 2,
 "cells": [
  {
   "source": [
    "# IBM Data Science Capstone Project\n",
    "-----------------------------------"
   ],
   "cell_type": "markdown",
   "metadata": {}
  },
  {
   "source": [
    "## *Introduction Section & Problem Statement*"
   ],
   "cell_type": "markdown",
   "metadata": {}
  },
  {
   "source": [
    "Analysis of the Bar Location & Nightlife Sectors in Singapore for Re-Opening in Next Phase of Covid-19 "
   ],
   "cell_type": "markdown",
   "metadata": {}
  },
  {
   "source": [
    "Describe the data that you will be using to solve the problem or execute your idea. Remember that you will need to use the Foursquare location data to solve the problem or execute your idea. You can absolutely use other datasets in combination with the Foursquare location data. So make sure that you provide adequate explanation and discussion, with examples, of the data that you will be using, even if it is only Foursquare location data. All these questions and more will be answered below. The whole process will be carried out via the below plan:\n",
    "\n",
    "1) Identify the Names of the Bars in Singapore and its Locations through Web-Scrapping.\n",
    "\n",
    "2) Use Foresquare Data to Obtain info about Most Popular Venues.\n",
    "\n",
    "3) Use Clustering to identify Close-Proximity of Bar Locations.\n",
    "\n",
    "4) Visualization using Chloropleth Map."
   ],
   "cell_type": "markdown",
   "metadata": {}
  }
 ]
}