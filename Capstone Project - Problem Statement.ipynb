{
 "metadata": {
  "language_info": {
   "codemirror_mode": {
    "name": "ipython",
    "version": 3
   },
   "file_extension": ".py",
   "mimetype": "text/x-python",
   "name": "python",
   "nbconvert_exporter": "python",
   "pygments_lexer": "ipython3",
   "version": "3.8.5-final"
  },
  "orig_nbformat": 2,
  "kernelspec": {
   "name": "python3",
   "display_name": "Python 3.8.5 32-bit",
   "metadata": {
    "interpreter": {
     "hash": "8c9d6bfc041864b7afe6c9ba3ec117e8618199150b9122499f33db705af8dc59"
    }
   }
  }
 },
 "nbformat": 4,
 "nbformat_minor": 2,
 "cells": [
  {
   "source": [
    "# IBM Data Science Capstone Project\n",
    "-----------------------------------"
   ],
   "cell_type": "markdown",
   "metadata": {}
  },
  {
   "source": [
    "## *Introduction Section & Problem Statement*"
   ],
   "cell_type": "markdown",
   "metadata": {}
  },
  {
   "source": [
    "Analysis of the Bar Locations &  Estates in Singapore for Re-Opening in Next Phase of Covid-19 "
   ],
   "cell_type": "markdown",
   "metadata": {}
  },
  {
   "source": [
    "Describe the data that you will be using to solve the problem or execute your idea. Remember that you will need to use the Foursquare location data to solve the problem or execute your idea. You can absolutely use other datasets in combination with the Foursquare location data. So make sure that you provide adequate explanation and discussion, with examples, of the data that you will be using, even if it is only Foursquare location data. All these questions and more will be answered below. The whole process will be carried out via the below plan:\n",
    "\n",
    "1) Identify the Names of the Bars in Singapore and its Locations through Web-Scrapping.\n",
    "\n",
    "2) Use Foresquare Data to Obtain info about Most Popular Venues.\n",
    "\n",
    "3) Use Clustering to identify Close-Proximity of Bar Locations.\n",
    "\n",
    "4) Visualization using Folium and HeatMap"
   ],
   "cell_type": "markdown",
   "metadata": {}
  },
  {
   "source": [
    "## *Data Section*"
   ],
   "cell_type": "markdown",
   "metadata": {}
  },
  {
   "source": [
    "Importing of Data from Wikipedia - http://en.wikipedia.org/wiki/Planning_Areas_of_Singapore <br>\n",
    "Importing of Data from Folium    - Bar Locations in Singapore Estates "
   ],
   "cell_type": "markdown",
   "metadata": {}
  },
  {
   "cell_type": "code",
   "execution_count": null,
   "metadata": {},
   "outputs": [],
   "source": []
  }
 ]
}